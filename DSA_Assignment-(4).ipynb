{
 "cells": [
  {
   "cell_type": "markdown",
   "id": "0a93327e",
   "metadata": {},
   "source": [
    " A company started to invest in digital marketing as a new way of their product\n",
    "promotions. For that they collected data and decided to carry out a study on it.\n",
    "● The company wishes to clarify whether there is any increase in sales after\n",
    "stepping into digital marketing"
   ]
  },
  {
   "cell_type": "code",
   "execution_count": 31,
   "id": "c7d90737",
   "metadata": {},
   "outputs": [
    {
     "name": "stdout",
     "output_type": "stream",
     "text": [
      "Reject the null hypothesis.\n",
      "There is evidence of a significant difference between the paired samples.\n"
     ]
    }
   ],
   "source": [
    "import pandas as pd\n",
    "from scipy.stats import ttest_rel\n",
    "\n",
    "\n",
    "data = pd.read_csv(r\"C:\\Users\\ACER\\Downloads\\Sales_add.csv\")\n",
    "\n",
    "# Extract the paired samples\n",
    "before = data['Sales_before_digital_add(in $)']\n",
    "after = data['Sales_After_digital_add(in $)']\n",
    "\n",
    "# Perform the paired t-test\n",
    "t_statistic, p_value = ttest_rel(before,after)\n",
    "\n",
    "# Interpret and Report Findings\n",
    "alpha = 0.05  # Set the significance level\n",
    "\n",
    "if p_value < alpha:\n",
    "    print(\"Reject the null hypothesis.\")\n",
    "    print(\"There is evidence of a significant difference between the paired samples.\")\n",
    "else:\n",
    "    print(\"Fail to reject the null hypothesis.\")\n",
    "    print(\"There is no evidence of a significant difference between the paired samples.\")"
   ]
  },
  {
   "cell_type": "markdown",
   "id": "bec79dde",
   "metadata": {},
   "source": [
    "● The company needs to check whether there is any dependency between\n",
    "thefeatures “Region” and “Manager”."
   ]
  },
  {
   "cell_type": "code",
   "execution_count": 14,
   "id": "2aaf32b5",
   "metadata": {},
   "outputs": [
    {
     "name": "stdout",
     "output_type": "stream",
     "text": [
      "Manager     Manager - A  Manager - B  Manager - C\n",
      "Region                                           \n",
      "Region - A            4            3            3\n",
      "Region - B            4            1            2\n",
      "Region - C            1            3            1\n"
     ]
    }
   ],
   "source": [
    "contingency_table = pd.crosstab(data['Region'], data['Manager'])\n",
    "\n",
    "# View the contingency table\n",
    "print(contingency_table)"
   ]
  },
  {
   "cell_type": "code",
   "execution_count": 5,
   "id": "4e785268",
   "metadata": {},
   "outputs": [
    {
     "name": "stdout",
     "output_type": "stream",
     "text": [
      "Fail to reject the null hypothesis.\n",
      "There is no evidence of a significant association between the 'Region' and 'Manager' variables.\n"
     ]
    }
   ],
   "source": [
    "import pandas as pd\n",
    "from scipy.stats import chi2_contingency\n",
    "\n",
    "\n",
    "data = pd.read_csv(r\"C:\\Users\\ACER\\Downloads\\Sales_add.csv\")\n",
    "\n",
    "# Define the contingency table\n",
    "contingency_table = pd.crosstab(data['Region'], data['Manager'])\n",
    "\n",
    "# Perform the chi-square test\n",
    "chi2, p_value, _, _ = chi2_contingency(contingency_table)\n",
    "\n",
    "# Define the hypothesis and interpret the results\n",
    "alpha = 0.05  # Set the significance level\n",
    "\n",
    "if p_value < alpha:\n",
    "    print(\"Reject the null hypothesis.\")\n",
    "    print(\"There is evidence of a significant association between the 'Region' and 'Manager' variables.\")\n",
    "else:\n",
    "    print(\"Fail to reject the null hypothesis.\")\n",
    "    print(\"There is no evidence of a significant association between the 'Region' and 'Manager' variables.\")\n"
   ]
  },
  {
   "cell_type": "code",
   "execution_count": 4,
   "id": "446e4ec6",
   "metadata": {},
   "outputs": [
    {
     "name": "stdout",
     "output_type": "stream",
     "text": [
      "Chi-square statistic: 3.050566893424036\n",
      "P-value: 0.5493991051158094\n"
     ]
    }
   ],
   "source": [
    "print(\"Chi-square statistic:\", chi2)\n",
    "print(\"P-value:\", p_value)"
   ]
  }
 ],
 "metadata": {
  "kernelspec": {
   "display_name": "Python 3 (ipykernel)",
   "language": "python",
   "name": "python3"
  },
  "language_info": {
   "codemirror_mode": {
    "name": "ipython",
    "version": 3
   },
   "file_extension": ".py",
   "mimetype": "text/x-python",
   "name": "python",
   "nbconvert_exporter": "python",
   "pygments_lexer": "ipython3",
   "version": "3.10.9"
  }
 },
 "nbformat": 4,
 "nbformat_minor": 5
}
